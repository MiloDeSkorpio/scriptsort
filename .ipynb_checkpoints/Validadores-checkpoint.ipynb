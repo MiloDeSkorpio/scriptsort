{
 "cells": [
  {
   "cell_type": "code",
   "execution_count": 5,
   "id": "49f764ac",
   "metadata": {},
   "outputs": [
    {
     "name": "stderr",
     "output_type": "stream",
     "text": [
      "C:\\Users\\Efrain Arcadio\\AppData\\Local\\Temp\\ipykernel_17560\\4002945493.py:30: DtypeWarning: Columns (12) have mixed types. Specify dtype option on import or set low_memory=False.\n",
      "  df = pd.read_csv(archivo_path)\n"
     ]
    },
    {
     "ename": "ValueError",
     "evalue": "No objects to concatenate",
     "output_type": "error",
     "traceback": [
      "\u001b[1;31m---------------------------------------------------------------------------\u001b[0m",
      "\u001b[1;31mValueError\u001b[0m                                Traceback (most recent call last)",
      "Cell \u001b[1;32mIn[5], line 33\u001b[0m\n\u001b[0;32m     30\u001b[0m     df \u001b[38;5;241m=\u001b[39m pd\u001b[38;5;241m.\u001b[39mread_csv(archivo_path)\n\u001b[0;32m     31\u001b[0m     arc_sept\u001b[38;5;241m.\u001b[39mappend(df)\n\u001b[1;32m---> 33\u001b[0m df_sep \u001b[38;5;241m=\u001b[39m pd\u001b[38;5;241m.\u001b[39mconcat(arc_sep,ignore_index\u001b[38;5;241m=\u001b[39m\u001b[38;5;28;01mTrue\u001b[39;00m)\n\u001b[0;32m     34\u001b[0m \u001b[38;5;66;03m#\u001b[39;00m\n\u001b[0;32m     35\u001b[0m \u001b[38;5;66;03m# Leer los archivos y almacenarlos en la lista de arc_sept\u001b[39;00m\n\u001b[0;32m     36\u001b[0m \u001b[38;5;28;01mfor\u001b[39;00m archivo \u001b[38;5;129;01min\u001b[39;00m agosto:\n",
      "File \u001b[1;32m~\\anaconda3\\Lib\\site-packages\\pandas\\core\\reshape\\concat.py:372\u001b[0m, in \u001b[0;36mconcat\u001b[1;34m(objs, axis, join, ignore_index, keys, levels, names, verify_integrity, sort, copy)\u001b[0m\n\u001b[0;32m    369\u001b[0m \u001b[38;5;28;01melif\u001b[39;00m copy \u001b[38;5;129;01mand\u001b[39;00m using_copy_on_write():\n\u001b[0;32m    370\u001b[0m     copy \u001b[38;5;241m=\u001b[39m \u001b[38;5;28;01mFalse\u001b[39;00m\n\u001b[1;32m--> 372\u001b[0m op \u001b[38;5;241m=\u001b[39m _Concatenator(\n\u001b[0;32m    373\u001b[0m     objs,\n\u001b[0;32m    374\u001b[0m     axis\u001b[38;5;241m=\u001b[39maxis,\n\u001b[0;32m    375\u001b[0m     ignore_index\u001b[38;5;241m=\u001b[39mignore_index,\n\u001b[0;32m    376\u001b[0m     join\u001b[38;5;241m=\u001b[39mjoin,\n\u001b[0;32m    377\u001b[0m     keys\u001b[38;5;241m=\u001b[39mkeys,\n\u001b[0;32m    378\u001b[0m     levels\u001b[38;5;241m=\u001b[39mlevels,\n\u001b[0;32m    379\u001b[0m     names\u001b[38;5;241m=\u001b[39mnames,\n\u001b[0;32m    380\u001b[0m     verify_integrity\u001b[38;5;241m=\u001b[39mverify_integrity,\n\u001b[0;32m    381\u001b[0m     copy\u001b[38;5;241m=\u001b[39mcopy,\n\u001b[0;32m    382\u001b[0m     sort\u001b[38;5;241m=\u001b[39msort,\n\u001b[0;32m    383\u001b[0m )\n\u001b[0;32m    385\u001b[0m \u001b[38;5;28;01mreturn\u001b[39;00m op\u001b[38;5;241m.\u001b[39mget_result()\n",
      "File \u001b[1;32m~\\anaconda3\\Lib\\site-packages\\pandas\\core\\reshape\\concat.py:429\u001b[0m, in \u001b[0;36m_Concatenator.__init__\u001b[1;34m(self, objs, axis, join, keys, levels, names, ignore_index, verify_integrity, copy, sort)\u001b[0m\n\u001b[0;32m    426\u001b[0m     objs \u001b[38;5;241m=\u001b[39m \u001b[38;5;28mlist\u001b[39m(objs)\n\u001b[0;32m    428\u001b[0m \u001b[38;5;28;01mif\u001b[39;00m \u001b[38;5;28mlen\u001b[39m(objs) \u001b[38;5;241m==\u001b[39m \u001b[38;5;241m0\u001b[39m:\n\u001b[1;32m--> 429\u001b[0m     \u001b[38;5;28;01mraise\u001b[39;00m \u001b[38;5;167;01mValueError\u001b[39;00m(\u001b[38;5;124m\"\u001b[39m\u001b[38;5;124mNo objects to concatenate\u001b[39m\u001b[38;5;124m\"\u001b[39m)\n\u001b[0;32m    431\u001b[0m \u001b[38;5;28;01mif\u001b[39;00m keys \u001b[38;5;129;01mis\u001b[39;00m \u001b[38;5;28;01mNone\u001b[39;00m:\n\u001b[0;32m    432\u001b[0m     objs \u001b[38;5;241m=\u001b[39m \u001b[38;5;28mlist\u001b[39m(com\u001b[38;5;241m.\u001b[39mnot_none(\u001b[38;5;241m*\u001b[39mobjs))\n",
      "\u001b[1;31mValueError\u001b[0m: No objects to concatenate"
     ]
    }
   ],
   "source": [
    "# imporatr las librerias necesarias para le funcionamiento\n",
    "import os\n",
    "import pandas as pd\n",
    "# Directorio donde se encuentran los archivos CSV y la cual sera la base de trabajo del Script\n",
    "ruta_guardado = \"Microsafe\"\n",
    "\n",
    "# Definir el nombre del archivo que contendra la union de todos\n",
    "validadores = \"Validadores.csv\"\n",
    "# Definir los nombres de los archivos que se van a leer\n",
    "septiembre = [\n",
    "    \"ORT_VALIDACIONES_1RA_QNA_SEPTIEMBRE_2023_MICROSAFE.csv\",\n",
    "    \"ORT_Validaciones_2da_septiembre_2023_Microsafe.csv\"\n",
    "]\n",
    "agosto = [\n",
    "    \"ORT_2DA_QNA_AGOSTO_2023_Microsafe.csv\",\n",
    "    #\"Informe 1.2.csv\"\n",
    "]\n",
    "julio = [\n",
    "    \"ORT_2DA_QNA_JUNIO_2023_Microsafe.csv\",\n",
    "    \"ORT_VAL_2DA_QNA_JULIO_2023_MICROSAFE.csv\"\n",
    "]\n",
    "# Lista para almacenar los DataFrames de los archivos\n",
    "arc_sep = []\n",
    "arc_ago = []\n",
    "arc_jul = []\n",
    "\n",
    "# Leer los archivos y almacenarlos en la lista de arc_sept\n",
    "for archivo in septiembre:\n",
    "    archivo_path = os.path.join(ruta_guardado, archivo)\n",
    "    df = pd.read_csv(archivo_path)\n",
    "    arc_sept.append(df)\n",
    "\n",
    "df_sep = pd.concat(arc_sep,ignore_index=True)\n",
    "#\n",
    "# Leer los archivos y almacenarlos en la lista de arc_sept\n",
    "for archivo in agosto:\n",
    "    archivo_path = os.path.join(ruta_guardado, archivo)\n",
    "    df = pd.read_csv(archivo_path)\n",
    "    arc_ago.append(df)\n",
    "\n",
    "#df_ago = pd.concat(arc_ago,ignore_index=True)\n",
    "# Leer los archivos y almacenarlos en la lista de arc_sept\n",
    "for archivo in julio:\n",
    "    archivo_path = os.path.join(ruta_guardado, archivo)\n",
    "    df = pd.read_csv(archivo_path)\n",
    "    arc_jul.append(df)\n",
    "\n",
    "df_jul = pd.concat(arc_jul,ignore_index=True)\n",
    "#\n",
    "miit_s = df_sep[df_sep['LINEA'] == \"1\"]\n",
    "miit_s['TIPO_TRANSACCION'].value_counts()\n",
    "mts = miit_s['TIPO_TRANSACCION'].value_counts()\n",
    "print(mts)\n",
    "#\n",
    "miit_a = df_ago[df_ago['LINEA'] == \"1\"]\n",
    "miit_a['TIPO_TRANSACCION'].value_counts()\n",
    "mta = miit_a['TIPO_TRANSACCION'].value_counts()\n",
    "print(mta)\n",
    "#\n",
    "miit_j = df_jul[df_jul['LINEA'] == \"1\"]\n",
    "miit_j['TIPO_TRANSACCION'].value_counts()\n",
    "mtj = miit_j['TIPO_TRANSACCION'].value_counts()\n",
    "print(mtj)"
   ]
  },
  {
   "cell_type": "code",
   "execution_count": null,
   "id": "8bfc495e",
   "metadata": {},
   "outputs": [],
   "source": []
  }
 ],
 "metadata": {
  "kernelspec": {
   "display_name": "Python 3 (ipykernel)",
   "language": "python",
   "name": "python3"
  },
  "language_info": {
   "codemirror_mode": {
    "name": "ipython",
    "version": 3
   },
   "file_extension": ".py",
   "mimetype": "text/x-python",
   "name": "python",
   "nbconvert_exporter": "python",
   "pygments_lexer": "ipython3",
   "version": "3.11.5"
  }
 },
 "nbformat": 4,
 "nbformat_minor": 5
}
